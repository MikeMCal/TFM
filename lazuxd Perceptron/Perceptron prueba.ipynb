{
 "cells": [
  {
   "cell_type": "code",
   "execution_count": 3,
   "id": "bd45ed09-fd01-4a7b-a5b7-623e0c0ce159",
   "metadata": {
    "tags": []
   },
   "outputs": [],
   "source": [
    "# Importing standard Qiskit libraries\n",
    "from qiskit import QuantumCircuit, transpile\n",
    "import numpy as np\n",
    "import matplotlib.pyplot as plt\n",
    "from sklearn.model_selection import train_test_split"
   ]
  },
  {
   "cell_type": "code",
   "execution_count": 4,
   "id": "5ac0e44e-fd2b-454d-b0b9-2944448221f1",
   "metadata": {
    "tags": []
   },
   "outputs": [],
   "source": [
    "\"\"\"\n",
    "Las filas de esta matriz son muestras del conjunto de datos X y las columnas son las características. El segundo parámetro, y , \n",
    "debe ser un array numpy 1D que contiene las etiquetas para cada fila de datos en X . El tercer parámetro, n_iter , es el número de iteraciones para las que dejamos que se ejecute el algoritmo.\n",
    "\"\"\"\n",
    "class Perceptron:    \n",
    "    def fit(self, X, y, n_iter=100):\n",
    "        \n",
    "        n_samples = X.shape[0]\n",
    "        n_features = X.shape[1]\n",
    "        \n",
    "        # Add 1 for the bias term\n",
    "        self.weights = np.zeros((n_features+1,))\n",
    "        \n",
    "        # Add column of 1s\n",
    "        X = np.concatenate([X, np.ones((n_samples, 1))], axis=1)\n",
    "        \n",
    "        for i in range(n_iter):\n",
    "            for j in range(n_samples):\n",
    "                if y[j]*np.dot(self.weights, X[j, :]) <= 0:\n",
    "                    self.weights += y[j]*X[j, :]\n",
    "    \n",
    "    def predict(self, X):\n",
    "        if not hasattr(self, 'weights'):\n",
    "            print('The model is not trained yet!')\n",
    "            return\n",
    "        \n",
    "        n_samples = X.shape[0]\n",
    "        # Add column of 1s\n",
    "        X = np.concatenate([X, np.ones((n_samples, 1))], axis=1)\n",
    "        y = np.matmul(X, self.weights)\n",
    "        y = np.vectorize(lambda val: 1 if val > 0 else -1)(y) #this mapping to all elements in the resulting vector of matrix multiplication.\n",
    "        \n",
    "        return y\n",
    "    #Retorna la certeza de las predicciones. Como parametros tiene matriz X y un vector y de labels.\n",
    "    def score(self, X, y):\n",
    "        pred_y = self.predict(X)\n",
    "        \n",
    "        return np.mean(y == pred_y)"
   ]
  },
  {
   "cell_type": "code",
   "execution_count": 12,
   "id": "75fb3e42",
   "metadata": {},
   "outputs": [],
   "source": [
    "\n",
    "def plot_data_points(ax, X, y):\n",
    "    neg_class = (y == -1)\n",
    "    pos_class = (y == 1)\n",
    "    ax.scatter(X[neg_class, 0], X[neg_class, 1])\n",
    "    ax.scatter(X[pos_class, 0], X[pos_class, 1])\n",
    "\n",
    "def plot_decision_boundary(ax, clf, X, p):\n",
    "    X_cpy = X.copy()\n",
    "    margin = 0.5\n",
    "    x_min = np.min(X_cpy[:, 0])-margin\n",
    "    x_max = np.max(X_cpy[:, 0])+margin\n",
    "    y_min = np.min(X_cpy[:, 1])-margin\n",
    "    y_max = np.max(X_cpy[:, 1])+margin\n",
    "    n = 1000\n",
    "    x = np.linspace(x_min, x_max, num=n)\n",
    "    y = np.linspace(y_min, y_max, num=n)\n",
    "    x, y = np.meshgrid(x, y)\n",
    "    X_cpy = np.stack([x.reshape((n*n,)), y.reshape((n*n,))], axis=1)\n",
    "    X_cpy = polynomial_features(X_cpy, p)\n",
    "    z = clf.predict(X_cpy)\n",
    "    z = z.reshape((n, n))\n",
    "    ax.contour(x, y, z, levels=[0])\n",
    "def polynom(indices_list, indices, a, b, p):\n",
    "    indices = [*indices]\n",
    "    if p == 0:\n",
    "        indices_list.append(indices)\n",
    "        return\n",
    "    for i in range(a, b):\n",
    "        indices.append(i)\n",
    "        polynom(indices_list, indices, i, b, p-1)\n",
    "        indices = indices[0:-1]\n",
    "\n",
    "def polynomial_features(X: np.ndarray, p) -> np.ndarray:\n",
    "    n, d = X.shape\n",
    "    features = []\n",
    "    for i in range(1, p+1):\n",
    "        l = []\n",
    "        polynom(l, [], 0, d, i)\n",
    "        for indices in l:\n",
    "            x = np.ones((n,))\n",
    "            for idx in indices:\n",
    "                x = x * X[:, idx]\n",
    "            features.append(x)\n",
    "    return np.stack(features, axis=1)\n",
    "\n",
    "def anim_fig(weights, X, y, X_train, y_train, X_test, y_test, out_folder, p, n_iter, i, j, n_samples, iteration_level):\n",
    "    clf = Perceptron()\n",
    "    clf.weights = weights\n",
    "\n",
    "    plt.clf()\n",
    "    fig, (ax_train, ax_test) = plt.subplots(nrows=1, ncols=2, dpi=120, figsize=(16,6))\n",
    "    \n",
    "    if iteration_level:\n",
    "        plot_data_points(ax_train, X_train, y_train)\n",
    "    else:\n",
    "        mask = np.ones((n_samples,), dtype=bool)\n",
    "        mask[j] = False\n",
    "        plot_data_points(ax_train, X_train[mask, :], y_train[mask])\n",
    "        ax_train.scatter(X_train[j, 0], X_train[j, 1], c='lime')\n",
    "    \n",
    "    plot_data_points(ax_test, X_test, y_test)\n",
    "\n",
    "    plot_decision_boundary(ax_train, clf, X, p)\n",
    "    plot_decision_boundary(ax_test, clf, X, p)\n",
    "\n",
    "    ax_train.set_title('Train')\n",
    "    ax_test.set_title('Test')\n",
    "\n",
    "    if iteration_level:\n",
    "        fig.suptitle(f'Iteration: {i+1}/{n_iter}', fontsize=14)\n",
    "    else:\n",
    "        fig.suptitle(f'Iteration: {i+1}/{n_iter}; Point: {j+1}/{n_samples}', fontsize=14)\n",
    "    k = i if iteration_level else i*n_samples+j\n",
    "    plt.savefig(f'{out_folder}/frame{k}.png')\n",
    "    plt.close(fig)\n"
   ]
  },
  {
   "cell_type": "code",
   "execution_count": 13,
   "id": "850f503e",
   "metadata": {},
   "outputs": [
    {
     "data": {
      "image/png": "[encoded data removed]",
      "text/plain": [
       "<Figure size 960x720 with 1 Axes>"
      ]
     },
     "metadata": {},
     "output_type": "display_data"
    },
    {
     "data": {
      "text/plain": [
       "1.0"
      ]
     },
     "execution_count": 13,
     "metadata": {},
     "output_type": "execute_result"
    }
   ],
   "source": [
    "X = np.load('X_lin_sep.npy')\n",
    "y = np.load('y_lin_sep.npy')\n",
    "\n",
    "fig, ax = plt.subplots(nrows=1, ncols=1, dpi=120, figsize=(8,6))\n",
    "plot_data_points(ax, X, y)\n",
    "plt.show()\n",
    "\n",
    "X_train, X_test, y_train, y_test = train_test_split(X, y, train_size=0.75)\n",
    "\n",
    "perceptron = Perceptron()\n",
    "perceptron.fit(X_train, y_train)\n",
    "\n",
    "perceptron.score(X_test, y_test)"
   ]
  }
 ],
 "metadata": {
  "kernelspec": {
   "display_name": "Qiskit v1.0.2 (ipykernel)",
   "language": "python",
   "name": "python3"
  },
  "language_info": {
   "codemirror_mode": {
    "name": "ipython",
    "version": 3
   },
   "file_extension": ".py",
   "mimetype": "text/x-python",
   "name": "python",
   "nbconvert_exporter": "python",
   "pygments_lexer": "ipython3",
   "version": "3.10.11"
  },
  "widgets": {
   "application/vnd.jupyter.widget-state+json": {
    "state": {},
    "version_major": 2,
    "version_minor": 0
   }
  }
 },
 "nbformat": 4,
 "nbformat_minor": 5
}
